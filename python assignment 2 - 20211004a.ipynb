{
 "cells": [
  {
   "cell_type": "markdown",
   "id": "81d1c6ee",
   "metadata": {},
   "source": [
    "1. Create the below pattern using nested for loop in Python. "
   ]
  },
  {
   "cell_type": "code",
   "execution_count": null,
   "id": "30a77597",
   "metadata": {},
   "outputs": [],
   "source": [
    "\"\"\"\n",
    "*\n",
    "* *\n",
    "* * * \n",
    "* * * *\n",
    "* * * * *\n",
    "* * * *\n",
    "* * * \n",
    "* *\n",
    "*\n",
    "\"\"\""
   ]
  },
  {
   "cell_type": "code",
   "execution_count": 20,
   "id": "5ec27cdc",
   "metadata": {},
   "outputs": [
    {
     "name": "stdout",
     "output_type": "stream",
     "text": [
      "\n",
      "\n",
      "* \n",
      "\n",
      "* * \n",
      "\n",
      "* * * \n",
      "\n",
      "* * * * \n",
      "\n",
      "* * * * * \n",
      "\n",
      "* * * * \n",
      "\n",
      "* * * \n",
      "\n",
      "* * \n",
      "\n",
      "* \n",
      "\n"
     ]
    }
   ],
   "source": [
    "for i in range(10):\n",
    "    if i<=5:\n",
    "        for j in range(i):\n",
    "            print('*',end = ' ')\n",
    "        print(\"\\n\")\n",
    "    else:\n",
    "        for j in range(10-i):\n",
    "            print('*',end = ' ')\n",
    "        print(\"\\n\")\n",
    "            "
   ]
  },
  {
   "cell_type": "markdown",
   "id": "c4d462d7",
   "metadata": {},
   "source": [
    "2. Write a Python program to reverse a word after accepting the input from the user. "
   ]
  },
  {
   "cell_type": "code",
   "execution_count": 21,
   "id": "9de9525f",
   "metadata": {},
   "outputs": [
    {
     "name": "stdout",
     "output_type": "stream",
     "text": [
      "Enter the Word: ineuron\n"
     ]
    }
   ],
   "source": [
    "word = input(\"Enter the Word: \")"
   ]
  },
  {
   "cell_type": "code",
   "execution_count": 24,
   "id": "a3caffcf",
   "metadata": {},
   "outputs": [],
   "source": [
    "rword = word[::-1]"
   ]
  },
  {
   "cell_type": "code",
   "execution_count": 26,
   "id": "c87cc7d8",
   "metadata": {},
   "outputs": [
    {
     "data": {
      "text/plain": [
       "'norueni'"
      ]
     },
     "execution_count": 26,
     "metadata": {},
     "output_type": "execute_result"
    }
   ],
   "source": [
    "rword"
   ]
  },
  {
   "cell_type": "code",
   "execution_count": null,
   "id": "fa8046b1",
   "metadata": {},
   "outputs": [],
   "source": []
  }
 ],
 "metadata": {
  "kernelspec": {
   "display_name": "Python 3",
   "language": "python",
   "name": "python3"
  },
  "language_info": {
   "codemirror_mode": {
    "name": "ipython",
    "version": 3
   },
   "file_extension": ".py",
   "mimetype": "text/x-python",
   "name": "python",
   "nbconvert_exporter": "python",
   "pygments_lexer": "ipython3",
   "version": "3.8.8"
  }
 },
 "nbformat": 4,
 "nbformat_minor": 5
}
