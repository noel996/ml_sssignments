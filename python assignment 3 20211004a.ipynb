{
 "cells": [
  {
   "cell_type": "markdown",
   "id": "56e546ca",
   "metadata": {},
   "source": [
    "### 1.1 Write a Python Program to implement your own myreduce() function which works exactly  like Python's built-in function reduce() "
   ]
  },
  {
   "cell_type": "code",
   "execution_count": 5,
   "id": "a50f6e50",
   "metadata": {},
   "outputs": [],
   "source": [
    "def myreduce(fun,iter):\n",
    "    if len(iter)==1:\n",
    "        a = iter[0]\n",
    "    else:\n",
    "        a=fun(iter[0],iter[1])\n",
    "        for i in range(2,len(iter)):\n",
    "            a=fun(a,iter[i])        \n",
    "    return a"
   ]
  },
  {
   "cell_type": "code",
   "execution_count": 8,
   "id": "6415647c",
   "metadata": {},
   "outputs": [
    {
     "data": {
      "text/plain": [
       "0.008333333333333333"
      ]
     },
     "execution_count": 8,
     "metadata": {},
     "output_type": "execute_result"
    }
   ],
   "source": [
    "myreduce(lambda x,y:x/y,[1,2,3,4,5])"
   ]
  },
  {
   "cell_type": "markdown",
   "id": "6376fc6b",
   "metadata": {},
   "source": [
    "### 1.2 Write a Python program to implement your own myfilter() function which works exactly  like Python's built-in function filter() \n"
   ]
  },
  {
   "cell_type": "code",
   "execution_count": 4,
   "id": "c848229e",
   "metadata": {},
   "outputs": [],
   "source": [
    "def myfilter(fun,iter):\n",
    "    for i in iter:\n",
    "        if fun(i): yield i\n",
    "    "
   ]
  },
  {
   "cell_type": "code",
   "execution_count": 6,
   "id": "88ff4f16",
   "metadata": {},
   "outputs": [
    {
     "data": {
      "text/plain": [
       "[89, 9, 10]"
      ]
     },
     "execution_count": 6,
     "metadata": {},
     "output_type": "execute_result"
    }
   ],
   "source": [
    "list(myfilter(lambda x:x>5,[1,2,3,5,89,9,10]))"
   ]
  },
  {
   "cell_type": "markdown",
   "id": "3543d10a",
   "metadata": {},
   "source": [
    "### 2. Implement List comprehensions to produce the following lists.  \n",
    "Write List comprehensions to produce the following Lists \n",
    "\n",
    "\n",
    "a. ['x', 'xx', 'xxx', 'xxxx', 'y', 'yy', 'yyy', 'yyyy', 'z', 'zz', 'zzz', 'zzzz'] \n",
    "\n",
    "b. ['x', 'y', 'z', 'xx', 'yy', 'zz', 'xxx', 'yyy', 'zzz', 'xxxx', 'yyyy', 'zzzz']  \n",
    "\n",
    "c. [[2], [3], [4], [3], [4], [5], [4], [5], [6]] \n",
    "\n",
    "d. [[2, 3, 4, 5], [3, 4, 5, 6],  [4, 5, 6, 7], [5, 6, 7, 8]] \n",
    "\n",
    "e. [(1, 1), (2, 1), (3, 1), (1, 2), (2, 2), (3, 2), (1, 3), (2, 3), (3, 3)]"
   ]
  },
  {
   "cell_type": "markdown",
   "id": "a3faade8",
   "metadata": {},
   "source": [
    "#### Solution for a"
   ]
  },
  {
   "cell_type": "code",
   "execution_count": 42,
   "id": "9f80771e",
   "metadata": {},
   "outputs": [
    {
     "data": {
      "text/plain": [
       "['x', 'xx', 'xxx', 'xxxx', 'y', 'yy', 'yyy', 'yyyy', 'z', 'zz', 'zzz', 'zzzz']"
      ]
     },
     "execution_count": 42,
     "metadata": {},
     "output_type": "execute_result"
    }
   ],
   "source": [
    "[i*j for i in ['x','y','z'] for j in range(1,5)]"
   ]
  },
  {
   "cell_type": "markdown",
   "id": "b8fea249",
   "metadata": {},
   "source": [
    "#### Solution for b"
   ]
  },
  {
   "cell_type": "code",
   "execution_count": 14,
   "id": "58b80366",
   "metadata": {},
   "outputs": [
    {
     "data": {
      "text/plain": [
       "['x', 'y', 'z', 'xx', 'yy', 'zz', 'xxx', 'yyy', 'zzz', 'xxxx', 'yyyy', 'zzzz']"
      ]
     },
     "execution_count": 14,
     "metadata": {},
     "output_type": "execute_result"
    }
   ],
   "source": [
    "[i*j for j in range(1,5) for i in ['x','y','z']]"
   ]
  },
  {
   "cell_type": "markdown",
   "id": "7a242e5b",
   "metadata": {},
   "source": [
    "#### Solution for c"
   ]
  },
  {
   "cell_type": "code",
   "execution_count": 41,
   "id": "77b2de46",
   "metadata": {},
   "outputs": [
    {
     "data": {
      "text/plain": [
       "[[2], [3], [4], [3], [4], [5], [4], [5], [6]]"
      ]
     },
     "execution_count": 41,
     "metadata": {},
     "output_type": "execute_result"
    }
   ],
   "source": [
    "[[i+j] for i in range(2,5) for j in range(3)]"
   ]
  },
  {
   "cell_type": "markdown",
   "id": "583135f3",
   "metadata": {},
   "source": [
    "#### Solution for d"
   ]
  },
  {
   "cell_type": "code",
   "execution_count": 38,
   "id": "d4a8535c",
   "metadata": {},
   "outputs": [
    {
     "data": {
      "text/plain": [
       "[[2, 3, 4, 5], [3, 4, 5, 6], [4, 5, 6, 7], [5, 6, 7, 8]]"
      ]
     },
     "execution_count": 38,
     "metadata": {},
     "output_type": "execute_result"
    }
   ],
   "source": [
    "[[i,i+1,i+2,i+3] for i in range(2,6)]"
   ]
  },
  {
   "cell_type": "markdown",
   "id": "b3d1d581",
   "metadata": {},
   "source": [
    "#### Solution for e"
   ]
  },
  {
   "cell_type": "code",
   "execution_count": 40,
   "id": "7197f580",
   "metadata": {},
   "outputs": [
    {
     "data": {
      "text/plain": [
       "[(1, 1), (2, 1), (3, 1), (1, 2), (2, 2), (3, 2), (1, 3), (2, 3), (3, 3)]"
      ]
     },
     "execution_count": 40,
     "metadata": {},
     "output_type": "execute_result"
    }
   ],
   "source": [
    "[(j,i)for i in range(1,4) for j in range(1,4)]"
   ]
  }
 ],
 "metadata": {
  "kernelspec": {
   "display_name": "Python 3",
   "language": "python",
   "name": "python3"
  },
  "language_info": {
   "codemirror_mode": {
    "name": "ipython",
    "version": 3
   },
   "file_extension": ".py",
   "mimetype": "text/x-python",
   "name": "python",
   "nbconvert_exporter": "python",
   "pygments_lexer": "ipython3",
   "version": "3.8.8"
  }
 },
 "nbformat": 4,
 "nbformat_minor": 5
}
