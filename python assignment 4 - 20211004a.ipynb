{
 "cells": [
  {
   "cell_type": "markdown",
   "id": "19a311e6",
   "metadata": {},
   "source": [
    "### 1.1 Write a Python Program(with class concepts) to find the area of the triangle using the below  formula. \n",
    "$ area = (s*(s-a)*(s-b)*(s-c)) ** 0.5 $\n",
    "### Function to take the length of the sides of triangle from user should be defined in the parent  class and function to calculate the area should be defined in subclass. \n"
   ]
  },
  {
   "cell_type": "code",
   "execution_count": 40,
   "id": "4af829cb",
   "metadata": {},
   "outputs": [],
   "source": [
    "class a:\n",
    "    def read(self):\n",
    "        self.a = float(input(\"Enter the length of side 1 : \"))\n",
    "        self.b = float(input(\"Enter the length of side 2 : \"))\n",
    "        self.c = float(input(\"Enter the length of side 3 : \"))\n",
    "    \n",
    "class b(a):\n",
    "    def area(self):\n",
    "        self.s = (self.a+self.b+self.c)/2\n",
    "        self.area = (self.s*(self.s-self.a)*(self.s - self.b)*(self.s - self.c)) **0.5\n",
    "        print(self.area)"
   ]
  },
  {
   "cell_type": "code",
   "execution_count": 47,
   "id": "a1607e1d",
   "metadata": {},
   "outputs": [],
   "source": [
    "t_area = b()"
   ]
  },
  {
   "cell_type": "code",
   "execution_count": 48,
   "id": "bb794f80",
   "metadata": {},
   "outputs": [
    {
     "name": "stdout",
     "output_type": "stream",
     "text": [
      "Enter the length of side 1 : 7\n",
      "Enter the length of side 2 : 9\n",
      "Enter the length of side 3 : 11\n"
     ]
    }
   ],
   "source": [
    "t_area.read()"
   ]
  },
  {
   "cell_type": "code",
   "execution_count": 49,
   "id": "90fc4f24",
   "metadata": {},
   "outputs": [
    {
     "name": "stdout",
     "output_type": "stream",
     "text": [
      "31.419540098480116\n"
     ]
    }
   ],
   "source": [
    "t_area.area()"
   ]
  },
  {
   "cell_type": "markdown",
   "id": "8d752443",
   "metadata": {},
   "source": [
    "### 1.2 Write a function filter_long_words() that takes a list of words and an integer n and returns the list of words that are longer than n."
   ]
  },
  {
   "cell_type": "code",
   "execution_count": 50,
   "id": "f4708f4d",
   "metadata": {},
   "outputs": [],
   "source": [
    "def filter_long_words(word_list,n):\n",
    "    return [i for i in word_list if len(i)>n]\n",
    "    "
   ]
  },
  {
   "cell_type": "code",
   "execution_count": 75,
   "id": "4fc9671a",
   "metadata": {},
   "outputs": [
    {
     "data": {
      "text/plain": [
       "['jjkhhkkhg', 'yyuyuyhi', 'bbbjbj']"
      ]
     },
     "execution_count": 75,
     "metadata": {},
     "output_type": "execute_result"
    }
   ],
   "source": [
    "filter_long_words([\"jjkhhkkhg\",\"jhh\",\"ljkl\",\"yyuyuyhi\",\"bbbjbj\"],4)"
   ]
  },
  {
   "cell_type": "markdown",
   "id": "7e6d1ff9",
   "metadata": {},
   "source": [
    "### 2.1 Write a Python program using function concept that maps list of words into a list of integers representing the lengths of the corresponding words.\n",
    "### Hint: If a list [ ab,cde,erty] is passed on to the python function output should come as [2,3,4] Here 2,3 and 4 are the lengths of the words in the list."
   ]
  },
  {
   "cell_type": "code",
   "execution_count": 53,
   "id": "ec8dd890",
   "metadata": {},
   "outputs": [],
   "source": [
    "def word_count(word_list):\n",
    "    return [len(j) for j in word_list]"
   ]
  },
  {
   "cell_type": "code",
   "execution_count": 54,
   "id": "035daa66",
   "metadata": {},
   "outputs": [
    {
     "data": {
      "text/plain": [
       "[2, 3, 4]"
      ]
     },
     "execution_count": 54,
     "metadata": {},
     "output_type": "execute_result"
    }
   ],
   "source": [
    "word_count(['ab','cde','erty'])"
   ]
  },
  {
   "cell_type": "markdown",
   "id": "c28cd994",
   "metadata": {},
   "source": [
    "### 2.2 Write a Python function which takes a character (i.e. a string of length 1) and returns True if it is a vowel, False otherwise."
   ]
  },
  {
   "cell_type": "code",
   "execution_count": 70,
   "id": "de786b70",
   "metadata": {},
   "outputs": [],
   "source": [
    "def is_vowel(ch):\n",
    "    if len(ch)!=1:     \n",
    "        print(\"Entered Multiple character\")\n",
    "        return\n",
    "    elif ch in ('a','e','i','o','u','A','E','I','O','U'):\n",
    "        return True\n",
    "    else:return False"
   ]
  },
  {
   "cell_type": "code",
   "execution_count": 73,
   "id": "e31bcca1",
   "metadata": {},
   "outputs": [],
   "source": [
    "a = is_vowel('a')"
   ]
  },
  {
   "cell_type": "code",
   "execution_count": 74,
   "id": "b967ad7c",
   "metadata": {},
   "outputs": [
    {
     "name": "stdout",
     "output_type": "stream",
     "text": [
      "True\n"
     ]
    }
   ],
   "source": [
    "print(a)"
   ]
  }
 ],
 "metadata": {
  "kernelspec": {
   "display_name": "Python 3",
   "language": "python",
   "name": "python3"
  },
  "language_info": {
   "codemirror_mode": {
    "name": "ipython",
    "version": 3
   },
   "file_extension": ".py",
   "mimetype": "text/x-python",
   "name": "python",
   "nbconvert_exporter": "python",
   "pygments_lexer": "ipython3",
   "version": "3.8.8"
  }
 },
 "nbformat": 4,
 "nbformat_minor": 5
}
