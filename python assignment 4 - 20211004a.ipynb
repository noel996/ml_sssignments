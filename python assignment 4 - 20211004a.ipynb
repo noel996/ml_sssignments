{
 "cells": [
  {
   "cell_type": "markdown",
   "id": "cbd69e6a",
   "metadata": {},
   "source": [
    "### 1.1 Write a Python Program(with class concepts) to find the area of the triangle using the below  formula. \n",
    "$ area = (s*(s-a)*(s-b)*(s-c)) ** 0.5 $\n",
    "### Function to take the length of the sides of triangle from user should be defined in the parent  class and function to calculate the area should be defined in subclass. \n"
   ]
  },
  {
   "cell_type": "code",
   "execution_count": 40,
   "id": "d9dae142",
   "metadata": {},
   "outputs": [],
   "source": [
    "class a:\n",
    "    def read(self):\n",
    "        self.a = float(input(\"Enter the length of side 1 : \"))\n",
    "        self.b = float(input(\"Enter the length of side 2 : \"))\n",
    "        self.c = float(input(\"Enter the length of side 3 : \"))\n",
    "    \n",
    "class b(a):\n",
    "    def area(self):\n",
    "        self.s = (self.a+self.b+self.c)/2\n",
    "        self.area = (self.s*(self.s-self.a)*(self.s - self.b)*(self.s - self.c)) **0.5\n",
    "        print(self.area)"
   ]
  },
  {
   "cell_type": "code",
   "execution_count": 47,
   "id": "da9831d9",
   "metadata": {},
   "outputs": [],
   "source": [
    "t_area = b()"
   ]
  },
  {
   "cell_type": "code",
   "execution_count": 48,
   "id": "d7e0536f",
   "metadata": {},
   "outputs": [
    {
     "name": "stdout",
     "output_type": "stream",
     "text": [
      "Enter the length of side 1 : 7\n",
      "Enter the length of side 2 : 9\n",
      "Enter the length of side 3 : 11\n"
     ]
    }
   ],
   "source": [
    "t_area.read()"
   ]
  },
  {
   "cell_type": "code",
   "execution_count": 49,
   "id": "83972a29",
   "metadata": {},
   "outputs": [
    {
     "name": "stdout",
     "output_type": "stream",
     "text": [
      "31.419540098480116\n"
     ]
    }
   ],
   "source": [
    "t_area.area()"
   ]
  },
  {
   "cell_type": "markdown",
   "id": "d886c28a",
   "metadata": {},
   "source": [
    "### 1.2 Write a function filter_long_words() that takes a list of words and an integer n and returns the list of words that are longer than n."
   ]
  },
  {
   "cell_type": "code",
   "execution_count": 50,
   "id": "ef4766d9",
   "metadata": {},
   "outputs": [],
   "source": [
    "def filter_long_words(word_list,n):\n",
    "    return [i for i in word_list if len(i)>n]\n",
    "    "
   ]
  },
  {
   "cell_type": "code",
   "execution_count": 52,
   "id": "962ea5ed",
   "metadata": {},
   "outputs": [
    {
     "data": {
      "text/plain": [
       "['Stany', 'Nirmal', 'Johnson']"
      ]
     },
     "execution_count": 52,
     "metadata": {},
     "output_type": "execute_result"
    }
   ],
   "source": [
    "filter_long_words([\"Noel\",\"Stany\",\"Nirmal\",\"Johnson\",\"Amal\"],4)"
   ]
  },
  {
   "cell_type": "markdown",
   "id": "1159915d",
   "metadata": {},
   "source": [
    "### 2.1 Write a Python program using function concept that maps list of words into a list of integers representing the lengths of the corresponding words.\n",
    "### Hint: If a list [ ab,cde,erty] is passed on to the python function output should come as [2,3,4] Here 2,3 and 4 are the lengths of the words in the list."
   ]
  },
  {
   "cell_type": "code",
   "execution_count": 53,
   "id": "4a63a351",
   "metadata": {},
   "outputs": [],
   "source": [
    "def word_count(word_list):\n",
    "    return [len(j) for j in word_list]"
   ]
  },
  {
   "cell_type": "code",
   "execution_count": 54,
   "id": "facf3513",
   "metadata": {},
   "outputs": [
    {
     "data": {
      "text/plain": [
       "[2, 3, 4]"
      ]
     },
     "execution_count": 54,
     "metadata": {},
     "output_type": "execute_result"
    }
   ],
   "source": [
    "word_count(['ab','cde','erty'])"
   ]
  },
  {
   "cell_type": "markdown",
   "id": "a26063a8",
   "metadata": {},
   "source": [
    "### 2.2 Write a Python function which takes a character (i.e. a string of length 1) and returns True if it is a vowel, False otherwise."
   ]
  },
  {
   "cell_type": "code",
   "execution_count": 70,
   "id": "11daaade",
   "metadata": {},
   "outputs": [],
   "source": [
    "def is_vowel(ch):\n",
    "    if len(ch)!=1:     \n",
    "        print(\"Entered Multiple character\")\n",
    "        return\n",
    "    elif ch in ('a','e','i','o','u','A','E','I','O','U'):\n",
    "        return True\n",
    "    else:return False"
   ]
  },
  {
   "cell_type": "code",
   "execution_count": 73,
   "id": "f41fa9c0",
   "metadata": {},
   "outputs": [],
   "source": [
    "a = is_vowel('a')"
   ]
  },
  {
   "cell_type": "code",
   "execution_count": 74,
   "id": "3df741c8",
   "metadata": {},
   "outputs": [
    {
     "name": "stdout",
     "output_type": "stream",
     "text": [
      "True\n"
     ]
    }
   ],
   "source": [
    "print(a)"
   ]
  }
 ],
 "metadata": {
  "kernelspec": {
   "display_name": "Python 3",
   "language": "python",
   "name": "python3"
  },
  "language_info": {
   "codemirror_mode": {
    "name": "ipython",
    "version": 3
   },
   "file_extension": ".py",
   "mimetype": "text/x-python",
   "name": "python",
   "nbconvert_exporter": "python",
   "pygments_lexer": "ipython3",
   "version": "3.8.8"
  }
 },
 "nbformat": 4,
 "nbformat_minor": 5
}
